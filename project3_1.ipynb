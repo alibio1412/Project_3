{
 "cells": [
  {
   "cell_type": "code",
   "execution_count": 11,
   "id": "8f29e398-c05e-4fbf-b94f-870dc5256b9f",
   "metadata": {
    "tags": []
   },
   "outputs": [],
   "source": [
    "import psycopg2\n",
    "import csv"
   ]
  },
  {
   "cell_type": "code",
   "execution_count": 41,
   "id": "ad0a2d64-aa4b-4ec7-9c9a-98f4aebc8475",
   "metadata": {
    "tags": []
   },
   "outputs": [],
   "source": [
    "conn = psycopg2.connect(\"host=localhost dbname=project_3 user=postgres password=postgres\")\n",
    "cur = conn.cursor()"
   ]
  },
  {
   "cell_type": "code",
   "execution_count": 13,
   "id": "6f918cae-5c69-4322-9c27-29e2dca96592",
   "metadata": {
    "tags": []
   },
   "outputs": [],
   "source": [
    "cur.execute('''\n",
    "    CREATE TABLE IF NOT EXISTS latihan_users_alissa(\n",
    "    id serial PRIMARY KEY,\n",
    "    email text,\n",
    "    name text,\n",
    "    phone text,\n",
    "    postal_code text\n",
    "    )\n",
    "    '''\n",
    "    )"
   ]
  },
  {
   "cell_type": "code",
   "execution_count": 14,
   "id": "ab78f685-e63d-4cee-8ee4-0052411c2fe1",
   "metadata": {
    "tags": []
   },
   "outputs": [],
   "source": [
    "with open('D:/Education/Digital_Skola_Data_Engineer/project_3/users_w_postal_code.csv') as f:\n",
    "    csv_reader = csv.reader(f, delimiter=',')\n",
    "    next(csv_reader) #skip header\n",
    "    for row in csv_reader:\n",
    "        cur.execute(\"INSERT INTO latihan_users_alissa VALUES (default, %s, %s, %s, %s) ON CONFLICT DO NOTHING\", row) "
   ]
  },
  {
   "cell_type": "code",
   "execution_count": 15,
   "id": "24041eac-e3aa-4917-b4f1-99cdc5ed0106",
   "metadata": {
    "tags": []
   },
   "outputs": [],
   "source": [
    "conn.commit()"
   ]
  },
  {
   "cell_type": "code",
   "execution_count": 16,
   "id": "3df9f714-eb12-43c0-9518-c66a453e621b",
   "metadata": {
    "tags": []
   },
   "outputs": [],
   "source": [
    "cur.execute(\"SELECT * FROM public.latihan_users_alissa\")"
   ]
  },
  {
   "cell_type": "code",
   "execution_count": 17,
   "id": "dc130a77-ee61-45fc-8327-cd71e5181106",
   "metadata": {
    "tags": []
   },
   "outputs": [],
   "source": [
    "#Fetch all the rows returned by the query\n",
    "latihan_users_alissa = cur.fetchall()"
   ]
  },
  {
   "cell_type": "code",
   "execution_count": 18,
   "id": "34094e51-102b-4315-a9a6-4b5e612bcafa",
   "metadata": {
    "tags": []
   },
   "outputs": [
    {
     "name": "stdout",
     "output_type": "stream",
     "text": [
      "(1, 'feugiat.metus@yahoo.edu', 'Jackson Boyer', '1-326-267-1884', '56-066')\n",
      "(2, 'morbi@hotmail.org', 'Devin Wolfe', '(315) 718-9194', '572037')\n",
      "(3, 'tempor.augue@google.couk', 'Dennis Blackwell', '1-433-880-4656', '51433')\n",
      "(4, 'vulputate.posuere.vulputate@protonmail.couk', 'Maggie Hawkins', '(779) 331-8323', '965863')\n",
      "(5, 'nisi.magna@google.couk', 'Oleg Hall', '1-208-578-4206', '80756')\n"
     ]
    }
   ],
   "source": [
    "#Print the list of the table names\n",
    "for name in latihan_users_alissa:\n",
    "    print(name)"
   ]
  },
  {
   "cell_type": "code",
   "execution_count": 19,
   "id": "fe4e70c5-72cc-4c5e-99ba-49c68c10be37",
   "metadata": {
    "tags": []
   },
   "outputs": [],
   "source": [
    "#INSERT TABLE USING COPY_FROM\n",
    "cur.execute('''\n",
    "    CREATE TABLE IF NOT EXISTS latihan_users_alissa1(\n",
    "    id serial PRIMARY KEY,\n",
    "    email text,\n",
    "    name text,\n",
    "    phone text,\n",
    "    postal_code text\n",
    "    )\n",
    "    '''\n",
    "    )"
   ]
  },
  {
   "cell_type": "code",
   "execution_count": 20,
   "id": "df18bb36-dab9-4f71-a8c1-83b76896f541",
   "metadata": {
    "tags": []
   },
   "outputs": [],
   "source": [
    "with open('D:/Education/Digital_Skola_Data_Engineer/project_3/users_w_postal_code.csv') as f:\n",
    "    next(f)\n",
    "    cur.copy_from(f, 'latihan_users_alissa1', sep=',', columns=('email', 'name', 'phone', 'postal_code'))"
   ]
  },
  {
   "cell_type": "code",
   "execution_count": 21,
   "id": "be96f145-7972-4347-bb2f-40da184a4bd8",
   "metadata": {
    "tags": []
   },
   "outputs": [],
   "source": [
    "cur.execute(\"SELECT * FROM public.latihan_users_alissa1\")"
   ]
  },
  {
   "cell_type": "code",
   "execution_count": 22,
   "id": "ef9b2d92-0b75-4c38-91b3-fa6ea2bbc278",
   "metadata": {
    "tags": []
   },
   "outputs": [],
   "source": [
    "#Fetch all the rows returned by the query\n",
    "latihan_users_alissa1 = cur.fetchall()"
   ]
  },
  {
   "cell_type": "code",
   "execution_count": 23,
   "id": "85562bf4-208e-4fff-8cbf-30e96bd4f69e",
   "metadata": {
    "tags": []
   },
   "outputs": [
    {
     "name": "stdout",
     "output_type": "stream",
     "text": [
      "(1, 'feugiat.metus@yahoo.edu', 'Jackson Boyer', '1-326-267-1884', '56-066')\n",
      "(2, 'morbi@hotmail.org', 'Devin Wolfe', '(315) 718-9194', '572037')\n",
      "(3, 'tempor.augue@google.couk', 'Dennis Blackwell', '1-433-880-4656', '51433')\n",
      "(4, 'vulputate.posuere.vulputate@protonmail.couk', 'Maggie Hawkins', '(779) 331-8323', '965863')\n",
      "(5, 'nisi.magna@google.couk', 'Oleg Hall', '1-208-578-4206', '80756')\n"
     ]
    }
   ],
   "source": [
    "#Print the list of the table names\n",
    "for name in latihan_users_alissa1:\n",
    "    print(name)"
   ]
  }
 ],
 "metadata": {
  "kernelspec": {
   "display_name": "Python 3 (ipykernel)",
   "language": "python",
   "name": "python3"
  },
  "language_info": {
   "codemirror_mode": {
    "name": "ipython",
    "version": 3
   },
   "file_extension": ".py",
   "mimetype": "text/x-python",
   "name": "python",
   "nbconvert_exporter": "python",
   "pygments_lexer": "ipython3",
   "version": "3.10.11"
  }
 },
 "nbformat": 4,
 "nbformat_minor": 5
}
